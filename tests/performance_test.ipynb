{
 "cells": [
  {
   "cell_type": "code",
   "execution_count": 1,
   "id": "ba07bd5a",
   "metadata": {},
   "outputs": [],
   "source": [
    "%reload_ext autoreload\n",
    "%autoreload 2\n",
    "\n",
    "import os\n",
    "import sys\n",
    "sys.path.append(os.getcwd()+\"/../src/\")\n",
    "import nesse\n",
    "import numpy as np"
   ]
  },
  {
   "cell_type": "code",
   "execution_count": 2,
   "id": "aed35616",
   "metadata": {},
   "outputs": [],
   "source": [
    "import time\n",
    "\n",
    "import tracemalloc\n",
    "\n",
    "from sys import getsizeof, stderr\n",
    "from itertools import chain\n",
    "from collections import deque\n",
    "try:\n",
    "    from reprlib import repr\n",
    "except ImportError:\n",
    "    pass\n",
    "\n",
    "\n",
    "def total_size(o, handlers={}, verbose=False):\n",
    "    \"\"\" Returns the approximate memory footprint an object and all of its contents.\n",
    "\n",
    "    Automatically finds the contents of the following builtin containers and\n",
    "    their subclasses:  tuple, list, deque, dict, set and frozenset.\n",
    "    To search other containers, add handlers to iterate over their contents:\n",
    "\n",
    "        handlers = {SomeContainerClass: iter,\n",
    "                    OtherContainerClass: OtherContainerClass.get_elements}\n",
    "\n",
    "    \"\"\"\n",
    "    dict_handler = lambda d: chain.from_iterable(d.items())\n",
    "    all_handlers = {tuple: iter,\n",
    "                    list: iter,\n",
    "                    deque: iter,\n",
    "                    dict: dict_handler,\n",
    "                    set: iter,\n",
    "                    frozenset: iter,\n",
    "                   }\n",
    "    all_handlers.update(handlers)     # user handlers take precedence\n",
    "    seen = set()                      # track which object id's have already been seen\n",
    "    default_size = getsizeof(0)       # estimate sizeof object without __sizeof__\n",
    "\n",
    "    def sizeof(o):\n",
    "        if id(o) in seen:       # do not double count the same object\n",
    "            return 0\n",
    "        seen.add(id(o))\n",
    "        s = getsizeof(o, default_size)\n",
    "\n",
    "        if verbose:\n",
    "            print(s, type(o), repr(o), file=stderr)\n",
    "\n",
    "        for typ, handler in all_handlers.items():\n",
    "            if isinstance(o, typ):\n",
    "                s += sum(map(sizeof, handler(o)))\n",
    "                break\n",
    "\n",
    "        else:\n",
    "            if not hasattr(o.__class__, '__slots__'):\n",
    "                if hasattr(o, '__dict__'):\n",
    "                    s+=sizeof(o.__dict__) # no __slots__ *usually* means a __dict__, but some special builtin classes (such as `type(None)`) have neither\n",
    "                # else, `o` has no attributes at all, so sys.getsizeof() actually returned the correct value\n",
    "            else:\n",
    "                s+=sum(sizeof(getattr(o, x)) for x in o.__class__.__slots__ if hasattr(o, x))\n",
    "        return s\n",
    "\n",
    "    return sizeof(o) / 1024\n",
    "\n",
    "import linecache\n",
    "\n",
    "def display_top(snapshot, key_type='lineno', limit=10):\n",
    "    snapshot = snapshot.filter_traces((\n",
    "        tracemalloc.Filter(False, \"<frozen importlib._bootstrap>\"),\n",
    "        tracemalloc.Filter(False, \"<unknown>\"),\n",
    "    ))\n",
    "    top_stats = snapshot.statistics(key_type)\n",
    "\n",
    "    print(\"Top %s lines\" % limit)\n",
    "    for index, stat in enumerate(top_stats[:limit], 1):\n",
    "        frame = stat.traceback[0]\n",
    "        print(\"#%s: %s:%s: %.1f KiB\"\n",
    "              % (index, frame.filename, frame.lineno, stat.size / 1024))\n",
    "        line = linecache.getline(frame.filename, frame.lineno).strip()\n",
    "        if line:\n",
    "            print('    %s' % line)\n",
    "\n",
    "    other = top_stats[limit:]\n",
    "    if other:\n",
    "        size = sum(stat.size for stat in other)\n",
    "        print(\"%s other: %.1f KiB\" % (len(other), size / 1024))\n",
    "    total = sum(stat.size for stat in top_stats)\n",
    "    print(\"Total allocated size: %.1f KiB\" % (total / 1024))"
   ]
  },
  {
   "cell_type": "code",
   "execution_count": 43,
   "id": "746f5fd3",
   "metadata": {},
   "outputs": [
    {
     "name": "stdout",
     "output_type": "stream",
     "text": [
      "g:\\nesse\\tests\n",
      "WP:\n",
      "3.83984375\n",
      "Presim:\n",
      "Top 10 lines\n",
      "#1: g:\\nesse\\tests/../src\\nesse\\field.py:99: 64294.0 KiB\n",
      "    fieldMag_interp = Interp3D(fieldMag.astype('double',order=\"C\"), x,y,z)\n",
      "#2: g:\\nesse\\tests/../src\\nesse\\field.py:96: 64293.6 KiB\n",
      "    fieldz_interp = Interp3D(self.fieldz.astype('double',order=\"C\"), x,y,z)\n",
      "#3: g:\\nesse\\tests/../src\\nesse\\field.py:95: 64293.6 KiB\n",
      "    fieldy_interp = Interp3D(self.fieldy.astype('double',order=\"C\"), x,y,z)\n",
      "#4: g:\\nesse\\tests/../src\\nesse\\field.py:94: 64293.6 KiB\n",
      "    fieldx_interp = Interp3D(self.fieldx.astype('double', order=\"C\"), x,y,z)\n",
      "#5: C:\\Users\\RJ\\AppData\\Local\\Temp\\ipykernel_12780\\2068151057.py:1: 55569.6 KiB\n",
      "    Is = [qp.q*np.dot(qp.vel,\n",
      "#6: g:\\nesse\\tests/../src\\nesse\\field.py:151: 39734.5 KiB\n",
      "    Ez = np.rot90(np.array(f[\"Ez\"]),axes=(0,2))\n",
      "#7: g:\\nesse\\tests/../src\\nesse\\field.py:150: 39734.5 KiB\n",
      "    Ey = np.rot90(np.array(f[\"Ey\"]),axes=(0,2))\n",
      "#8: g:\\nesse\\tests/../src\\nesse\\field.py:149: 39734.5 KiB\n",
      "    Ex = np.rot90(np.array(f[\"Ex\"]),axes=(0,2))\n",
      "#9: g:\\nesse\\tests/../src\\nesse\\field.py:129: 16073.5 KiB\n",
      "    data = np.array(f[\"wp\"])\n",
      "#10: c:\\Users\\RJ\\anaconda3\\envs\\nesse_dev\\lib\\copy.py:153: 16073.4 KiB\n",
      "    y = copier(memo)\n",
      "13813 other: 65317.7 KiB\n",
      "Total allocated size: 529412.6 KiB\n",
      "Sim:\n",
      "Top 10 lines\n",
      "#1: g:\\nesse\\tests/../src\\nesse\\field.py:99: 64294.0 KiB\n",
      "    fieldMag_interp = Interp3D(fieldMag.astype('double',order=\"C\"), x,y,z)\n",
      "#2: g:\\nesse\\tests/../src\\nesse\\field.py:96: 64293.6 KiB\n",
      "    fieldz_interp = Interp3D(self.fieldz.astype('double',order=\"C\"), x,y,z)\n",
      "#3: g:\\nesse\\tests/../src\\nesse\\field.py:95: 64293.6 KiB\n",
      "    fieldy_interp = Interp3D(self.fieldy.astype('double',order=\"C\"), x,y,z)\n",
      "#4: g:\\nesse\\tests/../src\\nesse\\field.py:94: 64293.6 KiB\n",
      "    fieldx_interp = Interp3D(self.fieldx.astype('double', order=\"C\"), x,y,z)\n",
      "#5: C:\\Users\\RJ\\AppData\\Local\\Temp\\ipykernel_12780\\2068151057.py:1: 55569.6 KiB\n",
      "    Is = [qp.q*np.dot(qp.vel,\n",
      "#6: g:\\nesse\\tests/../src\\nesse\\field.py:151: 39734.5 KiB\n",
      "    Ez = np.rot90(np.array(f[\"Ez\"]),axes=(0,2))\n",
      "#7: g:\\nesse\\tests/../src\\nesse\\field.py:150: 39734.5 KiB\n",
      "    Ey = np.rot90(np.array(f[\"Ey\"]),axes=(0,2))\n",
      "#8: g:\\nesse\\tests/../src\\nesse\\field.py:149: 39734.5 KiB\n",
      "    Ex = np.rot90(np.array(f[\"Ex\"]),axes=(0,2))\n",
      "#9: c:\\Users\\RJ\\anaconda3\\envs\\nesse_dev\\lib\\copy.py:153: 32146.8 KiB\n",
      "    y = copier(memo)\n",
      "#10: g:\\nesse\\tests/../src\\nesse\\field.py:129: 16073.5 KiB\n",
      "    data = np.array(f[\"wp\"])\n",
      "13821 other: 65515.7 KiB\n",
      "Total allocated size: 545684.1 KiB\n"
     ]
    }
   ],
   "source": [
    "tracemalloc.start()\n",
    "ID = \"4\"\n",
    "# print(tracemalloc.get_traced_memory())\n",
    "\n",
    "print(os.getcwd())\n",
    "\n",
    "events_filename = \"g:/nesse/config/Events/e-_800keV_0inc.root\"\n",
    "Events = nesse.eventsFromG4root(events_filename)[:1]\n",
    "\n",
    "# print(\"Events:\")\n",
    "# print(tracemalloc.get_traced_memory())\n",
    "\n",
    "EF_filename = \"g:/nesse/config/Fields/NessieEF_Base4e7Linear0-150.0V.hf\"\n",
    "WP_filename = \"g:/nesse/config/Fields/NessieWP_4e7Linear0-150V_grid.hf\"\n",
    "\n",
    "\n",
    "Efield=nesse.fieldFromH5(EF_filename, rotate90=True)  \n",
    "# print(\"EField:\")\n",
    "# print(tracemalloc.get_traced_memory())\n",
    "\n",
    "\n",
    "weightingPotential = nesse.potentialFromH5(WP_filename, rotate90=True)\n",
    "print(\"WP:\")\n",
    "print(total_size(weightingPotential))\n",
    "# print(tracemalloc.get_traced_memory())\n",
    "\n",
    "print(\"Presim:\")\n",
    "snapshot = tracemalloc.take_snapshot()\n",
    "display_top(snapshot)\n",
    "\n",
    "sim = nesse.Simulation(\"Example_sim\", 125, Efield, _weightingPotential=weightingPotential, contacts=1)\n",
    "\n",
    "spiceFile= \"g:/nesse/config/Spice/spice_step_New_1ns.csv\"\n",
    "sim.setElectronicResponse(spiceFile)\n",
    "\n",
    "sim.setIDP(lambda x, y, z : float(ID) * 1e16)\n",
    "\n",
    "ef_bounds = [[axis[0],axis[-1]] for axis in Efield.grid]\n",
    "bounds = np.stack((ef_bounds[0],ef_bounds[1],[0,0.002]))\n",
    "sim.setBounds(bounds)\n",
    "\n",
    "print(\"Sim:\")\n",
    "snapshot = tracemalloc.take_snapshot()\n",
    "display_top(snapshot)"
   ]
  },
  {
   "cell_type": "code",
   "execution_count": 63,
   "id": "686faa4d",
   "metadata": {},
   "outputs": [
    {
     "name": "stdout",
     "output_type": "stream",
     "text": [
      "WP:\n",
      "3.83984375\n",
      "370\n",
      "WF:\n",
      "48224.1552734375\n",
      "370\n"
     ]
    }
   ],
   "source": [
    "print(\"WP:\")\n",
    "print(total_size(weightingPotential))\n",
    "print(len(weightingPotential.data))\n",
    "\n",
    "weightingField = weightingPotential.toField()\n",
    "\n",
    "print(\"WF:\")\n",
    "print(total_size(weightingField))\n",
    "\n",
    "print(len(weightingField.fieldx))\n"
   ]
  },
  {
   "cell_type": "code",
   "execution_count": 50,
   "id": "4b810a0d",
   "metadata": {},
   "outputs": [
    {
     "data": {
      "text/plain": [
       "array([7.1045565e-07, 7.1942839e-07, 7.2015280e-07, 7.2046311e-07,\n",
       "       7.2140023e-07, 7.2286082e-07, 7.2371790e-07, 7.2509556e-07,\n",
       "       7.2610800e-07, 7.2740863e-07, 7.2785974e-07, 7.2858575e-07,\n",
       "       7.2844864e-07, 7.2857245e-07, 7.2782109e-07, 7.2731564e-07,\n",
       "       7.2592474e-07, 7.2476382e-07, 7.2270956e-07, 7.2086920e-07,\n",
       "       7.1882948e-07, 7.1724583e-07, 7.1501756e-07, 7.1323456e-07,\n",
       "       7.1282471e-07, 7.1241516e-07, 7.1079830e-07, 7.0902610e-07,\n",
       "       7.0604693e-07, 7.0360528e-07, 7.0026971e-07, 6.9703378e-07,\n",
       "       6.9291309e-07], dtype=float32)"
      ]
     },
     "execution_count": 50,
     "metadata": {},
     "output_type": "execute_result"
    }
   ],
   "source": [
    "weightingPotential.data[0][0]"
   ]
  },
  {
   "cell_type": "code",
   "execution_count": 56,
   "id": "69c550bd",
   "metadata": {},
   "outputs": [
    {
     "data": {
      "text/plain": [
       "array([ 2.01886669e-05,  1.17213349e-05,  3.04952264e-05,  2.89017917e-05,\n",
       "        1.43861398e-05,  1.39060430e-05,  1.34087168e-05,  1.33519061e-05,\n",
       "        1.04086939e-05,  7.88271427e-06,  5.29712997e-06,  2.65007839e-06,\n",
       "       -5.98374754e-08, -2.82400288e-06, -5.65568916e-06, -8.53324309e-06,\n",
       "       -1.14829745e-05, -1.44680962e-05, -1.75256282e-05, -2.10851431e-05,\n",
       "       -2.17403285e-05, -2.28714198e-05, -2.40677036e-05, -3.88920307e-05,\n",
       "       -3.83875740e-05, -7.42892735e-06, -1.24243088e-05, -1.74180605e-05,\n",
       "       -2.19158828e-05, -2.59974040e-05, -2.95718201e-05, -3.31050251e-05,\n",
       "       -3.70865964e-05], dtype=float32)"
      ]
     },
     "execution_count": 56,
     "metadata": {},
     "output_type": "execute_result"
    }
   ],
   "source": [
    "weightingField.fieldz[0][0]"
   ]
  },
  {
   "cell_type": "code",
   "execution_count": 62,
   "id": "94c9e9f4",
   "metadata": {},
   "outputs": [
    {
     "data": {
      "text/plain": [
       "array([-1.0000000e-03, -5.5555598e-04, -9.9999997e-06,  0.0000000e+00,\n",
       "        8.3333252e-05,  1.6666650e-04,  2.4999975e-04,  3.3333301e-04,\n",
       "        4.4444425e-04,  5.5555551e-04,  6.6666678e-04,  7.7777798e-04,\n",
       "        8.8888849e-04,  9.9999900e-04,  1.1111095e-03,  1.2222200e-03,\n",
       "        1.3333325e-03,  1.4444450e-03,  1.5555575e-03,  1.6666700e-03,\n",
       "        1.7500025e-03,  1.8333350e-03,  1.9166676e-03,  2.0000001e-03,\n",
       "        2.0099999e-03,  2.1463900e-03,  2.2827801e-03,  2.4191700e-03,\n",
       "        2.5555601e-03,  2.6666699e-03,  2.7777799e-03,  2.8888900e-03,\n",
       "        3.0000000e-03], dtype=float32)"
      ]
     },
     "execution_count": 62,
     "metadata": {},
     "output_type": "execute_result"
    }
   ],
   "source": [
    "weightingField.grid[2]"
   ]
  },
  {
   "cell_type": "code",
   "execution_count": 82,
   "id": "633c6db7",
   "metadata": {},
   "outputs": [
    {
     "name": "stdout",
     "output_type": "stream",
     "text": [
      "16073.4609375\n",
      "0.140625\n",
      "(370, 337, 33)\n",
      "(370, 337, 33)\n"
     ]
    }
   ],
   "source": [
    "print(total_size(weightingField.fieldx))\n",
    "print(total_size(weightingPotential.data))\n",
    "\n",
    "print(np.shape(weightingField.fieldx))\n",
    "print(np.shape(weightingPotential.data))"
   ]
  },
  {
   "cell_type": "code",
   "execution_count": 103,
   "id": "dbefd1ab",
   "metadata": {},
   "outputs": [],
   "source": [
    "weightingFieldx_interp, weightingFieldy_interp, weightingFieldz_interp, weightingFieldMag_interp = sim.weightingPotential[0].toField().interpolate(True)"
   ]
  },
  {
   "cell_type": "code",
   "execution_count": 107,
   "id": "bf1c2b2d",
   "metadata": {},
   "outputs": [
    {
     "name": "stdout",
     "output_type": "stream",
     "text": [
      "16080.43359375\n",
      "16080.43359375\n",
      "16080.43359375\n",
      "16080.43359375\n"
     ]
    }
   ],
   "source": [
    "print(total_size(weightingFieldx_interp))\n",
    "print(total_size(weightingFieldy_interp))\n",
    "print(total_size(weightingFieldz_interp))\n",
    "print(total_size(weightingFieldMag_interp))"
   ]
  },
  {
   "cell_type": "code",
   "execution_count": 106,
   "id": "ba16ecd2",
   "metadata": {},
   "outputs": [
    {
     "data": {
      "text/plain": [
       "64311.0703125"
      ]
     },
     "execution_count": 106,
     "metadata": {},
     "output_type": "execute_result"
    }
   ],
   "source": [
    "total_size(sim.weightingPotential[0].toField().interpolate(True))"
   ]
  },
  {
   "cell_type": "code",
   "execution_count": 92,
   "id": "3277957f",
   "metadata": {},
   "outputs": [
    {
     "name": "stdout",
     "output_type": "stream",
     "text": [
      "1.5546875\n"
     ]
    }
   ],
   "source": [
    "print(total_size(weightingFieldx_interp.x))"
   ]
  },
  {
   "cell_type": "code",
   "execution_count": 105,
   "id": "2fa99a02",
   "metadata": {},
   "outputs": [
    {
     "data": {
      "text/plain": [
       "array([[[ 0.00037081,  0.00038963,  0.00041777, ...,  0.00050103,\n",
       "          0.00049796,  0.0004994 ],\n",
       "        [ 0.00037192,  0.00039366,  0.00041915, ...,  0.00050325,\n",
       "          0.00050273,  0.00050165],\n",
       "        [ 0.00037743,  0.00039843,  0.00042552, ...,  0.00051111,\n",
       "          0.00050956,  0.00050948],\n",
       "        ...,\n",
       "        [-0.00037985, -0.00040088, -0.00042794, ..., -0.00051339,\n",
       "         -0.00051184, -0.00051174],\n",
       "        [-0.00037446, -0.00039621, -0.00042168, ..., -0.00050564,\n",
       "         -0.00050511, -0.00050402],\n",
       "        [-0.00037338, -0.00039226, -0.00042034, ..., -0.00050346,\n",
       "         -0.00050042, -0.00050181]],\n",
       "\n",
       "       [[ 0.00040446,  0.0004385 ,  0.0004744 , ...,  0.00062005,\n",
       "          0.00062306,  0.00062025],\n",
       "        [ 0.00040849,  0.00043992,  0.00047908, ...,  0.00062578,\n",
       "          0.00062615,  0.00062595],\n",
       "        [ 0.00041316,  0.00044625,  0.00048493, ...,  0.00063457,\n",
       "          0.00063602,  0.0006348 ],\n",
       "        ...,\n",
       "        [-0.00041569, -0.00044879, -0.00048747, ..., -0.00063699,\n",
       "         -0.00063842, -0.0006372 ],\n",
       "        [-0.00041112, -0.00044258, -0.00048173, ..., -0.00062831,\n",
       "         -0.00062867, -0.00062845],\n",
       "        [-0.00040718, -0.0004412 , -0.00047712, ..., -0.00062266,\n",
       "         -0.00062561, -0.00062283]],\n",
       "\n",
       "       [[ 0.00042556,  0.00045885,  0.00050739, ...,  0.00068413,\n",
       "          0.00068243,  0.0006852 ],\n",
       "        [ 0.00042685,  0.00046331,  0.0005092 , ...,  0.00068762,\n",
       "          0.00068863,  0.00068876],\n",
       "        [ 0.00043277,  0.0004687 ,  0.00051659, ...,  0.00069849,\n",
       "          0.00069847,  0.00069967],\n",
       "        ...,\n",
       "        [-0.00043534, -0.00047131, -0.00051917, ..., -0.00070096,\n",
       "         -0.00070094, -0.00070212],\n",
       "        [-0.00042954, -0.00046603, -0.00051191, ..., -0.00069023,\n",
       "         -0.00069122, -0.00069133],\n",
       "        [-0.00042829, -0.00046166, -0.00051013, ..., -0.00068677,\n",
       "         -0.0006851 , -0.00068781]],\n",
       "\n",
       "       ...,\n",
       "\n",
       "       [[ 0.00045003,  0.00049432,  0.00054404, ...,  0.00075223,\n",
       "          0.0007563 ,  0.00075413],\n",
       "        [ 0.00045433,  0.00049596,  0.00054919, ...,  0.00075898,\n",
       "          0.00076031,  0.00076088],\n",
       "        [ 0.00045937,  0.00050286,  0.00055581, ...,  0.00076988,\n",
       "          0.00077235,  0.0007719 ],\n",
       "        ...,\n",
       "        [-0.00046208, -0.00050558, -0.00055854, ..., -0.00077251,\n",
       "         -0.00077495, -0.00077449],\n",
       "        [-0.00045716, -0.00049882, -0.00055204, ..., -0.00076173,\n",
       "         -0.00076304, -0.00076359],\n",
       "        [-0.00045294, -0.00049721, -0.00054698, ..., -0.00075506,\n",
       "         -0.00075907, -0.00075694]],\n",
       "\n",
       "       [[ 0.0004164 ,  0.0004452 ,  0.00048729, ...,  0.00063206,\n",
       "          0.00062974,  0.00063194],\n",
       "        [ 0.00041767,  0.00044959,  0.000489  , ...,  0.00063516,\n",
       "          0.00063553,  0.0006351 ],\n",
       "        [ 0.00042358,  0.00045489,  0.00049618, ...,  0.00064514,\n",
       "          0.00064447,  0.0006451 ],\n",
       "        ...,\n",
       "        [-0.00042617, -0.00045752, -0.00049878, ..., -0.00064761,\n",
       "         -0.00064695, -0.00064755],\n",
       "        [-0.00042039, -0.00045233, -0.00049173, ..., -0.00063776,\n",
       "         -0.00063812, -0.00063767],\n",
       "        [-0.00041915, -0.00044802, -0.00049005, ..., -0.00063469,\n",
       "         -0.00063241, -0.00063455]],\n",
       "\n",
       "       [[ 0.00037765,  0.00040226,  0.00042516, ...,  0.00050831,\n",
       "          0.00051016,  0.00050654],\n",
       "        [ 0.00038154,  0.00040353,  0.00042954, ...,  0.00051318,\n",
       "          0.00051244,  0.00051135],\n",
       "        [ 0.00038607,  0.00040956,  0.00043487, ...,  0.00052013,\n",
       "          0.00052043,  0.00051831],\n",
       "        ...,\n",
       "        [-0.00038859, -0.00041207, -0.00043738, ..., -0.00052249,\n",
       "         -0.00052276, -0.00052065],\n",
       "        [-0.00038415, -0.00040617, -0.00043216, ..., -0.00051565,\n",
       "         -0.0005149 , -0.0005138 ],\n",
       "        [-0.00038035, -0.00040492, -0.00042786, ..., -0.00051086,\n",
       "         -0.00051266, -0.00050906]]], dtype=float32)"
      ]
     },
     "execution_count": 105,
     "metadata": {},
     "output_type": "execute_result"
    }
   ],
   "source": [
    "weightingFieldy_interp.v"
   ]
  },
  {
   "cell_type": "code",
   "execution_count": 90,
   "id": "12513b28",
   "metadata": {},
   "outputs": [
    {
     "data": {
      "text/plain": [
       "array([0.00026173, 0.00027911, 0.00030521, 0.0003028 , 0.00030942,\n",
       "       0.00031032, 0.00031692, 0.00031778, 0.00032554, 0.00032747,\n",
       "       0.00033502, 0.0003367 , 0.00034398, 0.00034536, 0.0003523 ,\n",
       "       0.00035333, 0.00035985, 0.00036048, 0.00036653, 0.00036669,\n",
       "       0.00037155, 0.00037069, 0.00037525, 0.00037413, 0.00037709,\n",
       "       0.00037723, 0.00038227, 0.00038142, 0.00038525, 0.00038324,\n",
       "       0.00038591, 0.00038312, 0.00038478])"
      ]
     },
     "execution_count": 90,
     "metadata": {},
     "output_type": "execute_result"
    }
   ],
   "source": [
    "weightingFieldx_interp.v[0][0]"
   ]
  },
  {
   "cell_type": "code",
   "execution_count": 85,
   "id": "444380a6",
   "metadata": {},
   "outputs": [
    {
     "name": "stdout",
     "output_type": "stream",
     "text": [
      "<class 'numpy.ndarray'>\n",
      "<class 'numpy.ndarray'>\n"
     ]
    }
   ],
   "source": [
    "print(type(weightingField.fieldx))\n",
    "print(type(weightingPotential.data))"
   ]
  },
  {
   "cell_type": "code",
   "execution_count": 76,
   "id": "1f113ee7",
   "metadata": {},
   "outputs": [
    {
     "data": {
      "text/plain": [
       "16459.08"
      ]
     },
     "execution_count": 76,
     "metadata": {},
     "output_type": "execute_result"
    }
   ],
   "source": [
    "370*337*33*32 / 8000"
   ]
  },
  {
   "cell_type": "code",
   "execution_count": 74,
   "id": "5e71e742",
   "metadata": {},
   "outputs": [],
   "source": [
    "for i in range(len(weightingField.fieldx)):\n",
    "    if total_size(weightingField.fieldx[i]) != total_size(weightingPotential.data[i]):\n",
    "        print(i)\n",
    "        print(total_size(weightingField.fieldx[i]))\n",
    "        print(total_size(weightingPotential.data[i]))\n",
    "\n",
    "        print(np.shape(weightingField.fieldx[i]))\n",
    "        print(np.shape(weightingPotential.data[i]))"
   ]
  },
  {
   "cell_type": "code",
   "execution_count": 40,
   "id": "c334c170",
   "metadata": {},
   "outputs": [
    {
     "data": {
      "application/vnd.jupyter.widget-view+json": {
       "model_id": "8016709829e84621843f8a940f2ef917",
       "version_major": 2,
       "version_minor": 0
      },
      "text/plain": [
       "  0%|          | 0/1 [00:00<?, ?it/s]"
      ]
     },
     "metadata": {},
     "output_type": "display_data"
    },
    {
     "name": "stdout",
     "output_type": "stream",
     "text": [
      "Postsim:\n",
      "Top 10 lines\n",
      "#1: g:\\nesse\\tests/../src\\nesse\\field.py:99: 96440.8 KiB\n",
      "    fieldMag_interp = Interp3D(fieldMag.astype('double',order=\"C\"), x,y,z)\n",
      "#2: g:\\nesse\\tests/../src\\nesse\\field.py:96: 96440.4 KiB\n",
      "    fieldz_interp = Interp3D(self.fieldz.astype('double',order=\"C\"), x,y,z)\n",
      "#3: g:\\nesse\\tests/../src\\nesse\\field.py:95: 96440.4 KiB\n",
      "    fieldy_interp = Interp3D(self.fieldy.astype('double',order=\"C\"), x,y,z)\n",
      "#4: g:\\nesse\\tests/../src\\nesse\\field.py:94: 96440.4 KiB\n",
      "    fieldx_interp = Interp3D(self.fieldx.astype('double', order=\"C\"), x,y,z)\n",
      "#5: C:\\Users\\RJ\\AppData\\Local\\Temp\\ipykernel_12780\\2068151057.py:1: 55569.6 KiB\n",
      "    Is = [qp.q*np.dot(qp.vel,\n",
      "#6: g:\\nesse\\tests/../src\\nesse\\field.py:151: 19867.3 KiB\n",
      "    Ez = np.rot90(np.array(f[\"Ez\"]),axes=(0,2))\n",
      "#7: g:\\nesse\\tests/../src\\nesse\\field.py:150: 19867.3 KiB\n",
      "    Ey = np.rot90(np.array(f[\"Ey\"]),axes=(0,2))\n",
      "#8: g:\\nesse\\tests/../src\\nesse\\field.py:149: 19867.3 KiB\n",
      "    Ex = np.rot90(np.array(f[\"Ex\"]),axes=(0,2))\n",
      "#9: g:\\nesse\\tests/../src\\nesse\\field.py:129: 16073.5 KiB\n",
      "    data = np.array(f[\"wp\"])\n",
      "#10: c:\\Users\\RJ\\anaconda3\\envs\\nesse_dev\\lib\\copy.py:153: 16073.4 KiB\n",
      "    y = copier(memo)\n",
      "13830 other: 57575.0 KiB\n",
      "Total allocated size: 590655.3 KiB\n",
      "-----------------------------------\n",
      "Events size: 3555.50390625\n",
      "Event size: 3555.44140625\n",
      "Quasiparticles size: 3550.9765625\n",
      "Quasiparticle size: 84.265625\n",
      "Quasiparticle pos size: 31.37890625\n"
     ]
    }
   ],
   "source": [
    "sim.simulate(Events, ds=1e-6, diffusion=False, dt=1e-10, maxPairs=1, silence=True, parallel=False)\n",
    "\n",
    "print(\"Postsim:\")\n",
    "snapshot = tracemalloc.take_snapshot()\n",
    "display_top(snapshot)\n",
    "\n",
    "print(\"-----------------------------------\")\n",
    "print(f\"Events size: {total_size(Events)}\")\n",
    "print(f\"Event size: {total_size(Events[0])}\")\n",
    "print(f\"Quasiparticles size: {total_size(Events[0].quasiparticles)}\")\n",
    "print(f\"Quasiparticle size: {total_size(Events[0].quasiparticles[0])}\")\n",
    "print(f\"Quasiparticle pos size: {total_size(Events[0].quasiparticles[0].pos)}\")"
   ]
  },
  {
   "cell_type": "code",
   "execution_count": 5,
   "id": "116a83cd",
   "metadata": {},
   "outputs": [],
   "source": [
    "event = Events[0]\n",
    "qp = event.quasiparticles[0]"
   ]
  },
  {
   "cell_type": "code",
   "execution_count": 6,
   "id": "026e0461",
   "metadata": {},
   "outputs": [
    {
     "data": {
      "text/plain": [
       "array([[0.0000000e+00, 0.0000000e+00, 0.0000000e+00],\n",
       "       [0.0000000e+00, 0.0000000e+00, 1.0000000e-06],\n",
       "       [1.1637479e-13, 1.3584952e-14, 2.0000000e-06],\n",
       "       ...,\n",
       "       [1.4444829e-07, 4.1040304e-09, 2.0000001e-03],\n",
       "       [1.4444829e-07, 4.1040304e-09, 2.0000001e-03],\n",
       "       [1.4444829e-07, 4.1040304e-09, 2.0000001e-03]], dtype=float32)"
      ]
     },
     "execution_count": 6,
     "metadata": {},
     "output_type": "execute_result"
    }
   ],
   "source": [
    "qp.pos"
   ]
  },
  {
   "cell_type": "code",
   "execution_count": 7,
   "id": "abac6d94",
   "metadata": {},
   "outputs": [],
   "source": [
    "weightingFieldx_interp, weightingFieldy_interp, weightingFieldz_interp, weightingFieldMag_interp = sim.weightingPotential[0].toField().interpolate(True)"
   ]
  },
  {
   "cell_type": "code",
   "execution_count": 8,
   "id": "41ae79f2",
   "metadata": {},
   "outputs": [],
   "source": [
    "I = [qp.q*np.dot(qp.vel[j],\n",
    "                        [weightingFieldx_interp(qp.pos[j]),\n",
    "                        weightingFieldy_interp(qp.pos[j]),\n",
    "                        weightingFieldz_interp(qp.pos[j])]) for j in range(len(qp.pos))]"
   ]
  },
  {
   "cell_type": "code",
   "execution_count": 17,
   "id": "14039dc9",
   "metadata": {},
   "outputs": [
    {
     "data": {
      "text/plain": [
       "array([[ 0.00000000e+00,  0.00000000e+00,  5.33306656e+01],\n",
       "       [ 2.78320574e-05, -8.23975384e-06,  5.86639634e+01],\n",
       "       [ 5.56641144e-05, -1.64795078e-05,  6.39972611e+01],\n",
       "       ...,\n",
       "       [ 0.00000000e+00,  0.00000000e+00, -1.71828133e+02],\n",
       "       [ 0.00000000e+00,  0.00000000e+00, -1.71828133e+02],\n",
       "       [ 0.00000000e+00,  0.00000000e+00, -1.71828133e+02]])"
      ]
     },
     "execution_count": 17,
     "metadata": {},
     "output_type": "execute_result"
    }
   ],
   "source": [
    "np.array((weightingFieldx_interp(qp.pos),\n",
    "                        weightingFieldy_interp(qp.pos),\n",
    "                        weightingFieldz_interp(qp.pos))).T"
   ]
  },
  {
   "cell_type": "code",
   "execution_count": 19,
   "id": "39282e2c",
   "metadata": {},
   "outputs": [
    {
     "data": {
      "text/plain": [
       "array([[-0.0000000e+00,  0.0000000e+00,  0.0000000e+00],\n",
       "       [-0.0000000e+00, -0.0000000e+00,  5.8222199e+04],\n",
       "       [ 6.7747869e-03,  7.9085131e-04,  5.8215246e+04],\n",
       "       ...,\n",
       "       [ 9.2403440e-07,  1.0068612e-08,  1.8148800e-02],\n",
       "       [ 9.0705333e-07,  9.8835793e-09,  1.7815277e-02],\n",
       "       [ 8.9038429e-07,  9.7019477e-09,  1.7487884e-02]], dtype=float32)"
      ]
     },
     "execution_count": 19,
     "metadata": {},
     "output_type": "execute_result"
    }
   ],
   "source": [
    "qp.vel"
   ]
  },
  {
   "cell_type": "code",
   "execution_count": 32,
   "id": "5a6386a4",
   "metadata": {},
   "outputs": [],
   "source": [
    "Is = qp.q * np.sum(qp.vel * np.array((weightingFieldx_interp(qp.pos),\n",
    "                            weightingFieldy_interp(qp.pos),\n",
    "                            weightingFieldz_interp(qp.pos))).T, axis=1)"
   ]
  },
  {
   "cell_type": "code",
   "execution_count": 34,
   "id": "c076ac0c",
   "metadata": {},
   "outputs": [
    {
     "data": {
      "text/plain": [
       "array([0., 0., 0., ..., 0., 0., 0.])"
      ]
     },
     "execution_count": 34,
     "metadata": {},
     "output_type": "execute_result"
    }
   ],
   "source": [
    "I-Is"
   ]
  },
  {
   "cell_type": "code",
   "execution_count": 26,
   "id": "8587c006",
   "metadata": {},
   "outputs": [
    {
     "data": {
      "text/plain": [
       "array([-0.00000000e+00, -3.82541036e-12, -4.17269026e-12, ...,\n",
       "        3.49269142e-18,  3.42850568e-18,  3.36549963e-18])"
      ]
     },
     "execution_count": 26,
     "metadata": {},
     "output_type": "execute_result"
    }
   ],
   "source": [
    "np.array(I)"
   ]
  },
  {
   "cell_type": "code",
   "execution_count": 33,
   "id": "e947b8ef",
   "metadata": {},
   "outputs": [
    {
     "data": {
      "text/plain": [
       "array([-0.00000000e+00, -3.82541036e-12, -4.17269026e-12, ...,\n",
       "        3.49269142e-18,  3.42850568e-18,  3.36549963e-18])"
      ]
     },
     "execution_count": 33,
     "metadata": {},
     "output_type": "execute_result"
    }
   ],
   "source": [
    "Is"
   ]
  },
  {
   "cell_type": "code",
   "execution_count": 18,
   "id": "e23d08a4",
   "metadata": {},
   "outputs": [
    {
     "data": {
      "text/plain": [
       "array([[0.0000000e+00, 0.0000000e+00, 0.0000000e+00],\n",
       "       [0.0000000e+00, 0.0000000e+00, 1.0000000e-06],\n",
       "       [1.1637479e-13, 1.3584952e-14, 2.0000000e-06],\n",
       "       ...,\n",
       "       [1.4444829e-07, 4.1040304e-09, 2.0000001e-03],\n",
       "       [1.4444829e-07, 4.1040304e-09, 2.0000001e-03],\n",
       "       [1.4444829e-07, 4.1040304e-09, 2.0000001e-03]], dtype=float32)"
      ]
     },
     "execution_count": 18,
     "metadata": {},
     "output_type": "execute_result"
    }
   ],
   "source": [
    "qp.pos"
   ]
  },
  {
   "cell_type": "code",
   "execution_count": null,
   "id": "16a5e9ff",
   "metadata": {},
   "outputs": [
    {
     "ename": "ValueError",
     "evalue": "The truth value of an array with more than one element is ambiguous. Use a.any() or a.all()",
     "output_type": "error",
     "traceback": [
      "\u001b[1;31m---------------------------------------------------------------------------\u001b[0m",
      "\u001b[1;31mValueError\u001b[0m                                Traceback (most recent call last)",
      "Cell \u001b[1;32mIn[39], line 1\u001b[0m\n\u001b[1;32m----> 1\u001b[0m \u001b[43mnesse\u001b[49m\u001b[38;5;241;43m.\u001b[39;49m\u001b[43mfind_first\u001b[49m\u001b[43m(\u001b[49m\u001b[43mqp\u001b[49m\u001b[38;5;241;43m.\u001b[39;49m\u001b[43mpos\u001b[49m\u001b[43m[\u001b[49m\u001b[38;5;241;43m0\u001b[39;49m\u001b[43m]\u001b[49m\u001b[43m,\u001b[49m\u001b[43m \u001b[49m\u001b[43msim\u001b[49m\u001b[38;5;241;43m.\u001b[39;49m\u001b[43melectricField\u001b[49m\u001b[38;5;241;43m.\u001b[39;49m\u001b[43mgrid\u001b[49m\u001b[43m[\u001b[49m\u001b[38;5;241;43m0\u001b[39;49m\u001b[43m]\u001b[49m\u001b[43m)\u001b[49m\n",
      "File \u001b[1;32mc:\\Users\\RJ\\anaconda3\\envs\\nesse_dev\\lib\\site-packages\\numba\\np\\arrayobj.py:6407\u001b[0m, in \u001b[0;36mimpl\u001b[1;34m()\u001b[0m\n\u001b[0;32m   6404\u001b[0m \u001b[38;5;28;01melse\u001b[39;00m:\n\u001b[0;32m   6405\u001b[0m     msg \u001b[38;5;241m=\u001b[39m (\u001b[38;5;124m\"\u001b[39m\u001b[38;5;124mThe truth value of an array with more than one element \u001b[39m\u001b[38;5;124m\"\u001b[39m\n\u001b[0;32m   6406\u001b[0m            \u001b[38;5;124m\"\u001b[39m\u001b[38;5;124mis ambiguous. Use a.any() or a.all()\u001b[39m\u001b[38;5;124m\"\u001b[39m)\n\u001b[1;32m-> 6407\u001b[0m     \u001b[38;5;28;01mraise\u001b[39;00m \u001b[38;5;167;01mValueError\u001b[39;00m(msg)\n",
      "\u001b[1;31mValueError\u001b[0m: The truth value of an array with more than one element is ambiguous. Use a.any() or a.all()"
     ]
    }
   ],
   "source": [
    "nesse.find_first(qp.pos, sim.electricField.grid[0])"
   ]
  },
  {
   "cell_type": "code",
   "execution_count": 50,
   "id": "f3b62b8d",
   "metadata": {},
   "outputs": [
    {
     "data": {
      "text/plain": [
       "array([0.00000000e+00, 2.78320574e-05, 5.56641144e-05, ...,\n",
       "       0.00000000e+00, 0.00000000e+00, 0.00000000e+00])"
      ]
     },
     "execution_count": 50,
     "metadata": {},
     "output_type": "execute_result"
    }
   ],
   "source": [
    "weightingFieldx_interp(qp.pos)"
   ]
  },
  {
   "cell_type": "code",
   "execution_count": 35,
   "id": "3e417b82",
   "metadata": {},
   "outputs": [
    {
     "name": "stderr",
     "output_type": "stream",
     "text": [
      "[autoreload of nesse.interp_3d failed: Traceback (most recent call last):\n",
      "  File \"c:\\Users\\RJ\\anaconda3\\envs\\nesse_dev\\lib\\site-packages\\IPython\\extensions\\autoreload.py\", line 273, in check\n",
      "    superreload(m, reload, self.old_objects)\n",
      "  File \"c:\\Users\\RJ\\anaconda3\\envs\\nesse_dev\\lib\\site-packages\\IPython\\extensions\\autoreload.py\", line 471, in superreload\n",
      "    module = reload(module)\n",
      "  File \"c:\\Users\\RJ\\anaconda3\\envs\\nesse_dev\\lib\\importlib\\__init__.py\", line 169, in reload\n",
      "    _bootstrap._exec(spec, module)\n",
      "  File \"<frozen importlib._bootstrap>\", line 604, in _exec\n",
      "  File \"<frozen importlib._bootstrap_external>\", line 843, in exec_module\n",
      "  File \"<frozen importlib._bootstrap>\", line 219, in _call_with_frames_removed\n",
      "  File \"g:\\nesse\\tests/../src\\nesse\\interp_3d.py\", line 11, in <module>\n",
      "    def find_first(item, vec):\n",
      "  File \"c:\\Users\\RJ\\anaconda3\\envs\\nesse_dev\\lib\\site-packages\\numba\\np\\ufunc\\decorators.py\", line 203, in wrap\n",
      "    guvec.add(fty)\n",
      "  File \"c:\\Users\\RJ\\anaconda3\\envs\\nesse_dev\\lib\\site-packages\\numba\\np\\ufunc\\gufunc.py\", line 64, in add\n",
      "    self.gufunc_builder.add(fty)\n",
      "  File \"c:\\Users\\RJ\\anaconda3\\envs\\nesse_dev\\lib\\site-packages\\numba\\np\\ufunc\\ufuncbuilder.py\", line 258, in add\n",
      "    cres, args, return_type = _compile_element_wise_function(\n",
      "TypeError: Failed in object mode pipeline (step: fix up args)\n",
      "Signature mismatch: 3 argument types given, but function takes 2 arguments\n",
      "]\n"
     ]
    },
    {
     "ename": "ValueError",
     "evalue": "The truth value of an array with more than one element is ambiguous. Use a.any() or a.all()",
     "output_type": "error",
     "traceback": [
      "\u001b[1;31m---------------------------------------------------------------------------\u001b[0m",
      "\u001b[1;31mValueError\u001b[0m                                Traceback (most recent call last)",
      "Cell \u001b[1;32mIn[35], line 2\u001b[0m\n\u001b[0;32m      1\u001b[0m I \u001b[38;5;241m=\u001b[39m [qp\u001b[38;5;241m.\u001b[39mq\u001b[38;5;241m*\u001b[39mnp\u001b[38;5;241m.\u001b[39mdot(qp\u001b[38;5;241m.\u001b[39mvel,\n\u001b[1;32m----> 2\u001b[0m                         [\u001b[43mweightingFieldx_interp\u001b[49m\u001b[43m(\u001b[49m\u001b[43mqp\u001b[49m\u001b[38;5;241;43m.\u001b[39;49m\u001b[43mpos\u001b[49m\u001b[43m)\u001b[49m,\n\u001b[0;32m      3\u001b[0m                         weightingFieldy_interp(qp\u001b[38;5;241m.\u001b[39mpos),\n\u001b[0;32m      4\u001b[0m                         weightingFieldz_interp(qp\u001b[38;5;241m.\u001b[39mpos)])]\n",
      "File \u001b[1;32mg:\\nesse\\tests/../src\\nesse\\interp_3d.py:93\u001b[0m, in \u001b[0;36m__call__\u001b[1;34m(self, t)\u001b[0m\n\u001b[0;32m     88\u001b[0m def __call__(self, t):\n\u001b[0;32m     89\u001b[0m     X,Y,Z = self.v.shape[0], self.v.shape[1], self.v.shape[2]\n\u001b[0;32m     91\u001b[0m     #i = np.where(self.x>t[0])[0][0]-1\n\u001b[0;32m     92\u001b[0m     #j = np.where(self.y>t[1])[0][0]-1\n\u001b[1;32m---> 93\u001b[0m     #k = np.where(self.z>t[2])[0][0]-1\n\u001b[0;32m     94\u001b[0m     print(t)\n\u001b[0;32m     95\u001b[0m     i,j,k = self.get_ijk(t)\n",
      "File \u001b[1;32mg:\\nesse\\tests/../src\\nesse\\interp_3d.py:81\u001b[0m, in \u001b[0;36mInterp3D.get_ijk\u001b[1;34m(self, t)\u001b[0m\n\u001b[0;32m     80\u001b[0m \u001b[38;5;28;01mdef\u001b[39;00m \u001b[38;5;21mget_ijk\u001b[39m(\u001b[38;5;28mself\u001b[39m, t):\n\u001b[1;32m---> 81\u001b[0m     \u001b[38;5;28;01mreturn\u001b[39;00m \u001b[43mfind_first\u001b[49m\u001b[43m(\u001b[49m\u001b[43mt\u001b[49m\u001b[43m[\u001b[49m\u001b[38;5;241;43m0\u001b[39;49m\u001b[43m]\u001b[49m\u001b[43m,\u001b[49m\u001b[43m \u001b[49m\u001b[38;5;28;43mself\u001b[39;49m\u001b[38;5;241;43m.\u001b[39;49m\u001b[43mx\u001b[49m\u001b[43m)\u001b[49m\u001b[38;5;241m-\u001b[39m\u001b[38;5;241m1\u001b[39m, find_first(t[\u001b[38;5;241m1\u001b[39m], \u001b[38;5;28mself\u001b[39m\u001b[38;5;241m.\u001b[39my)\u001b[38;5;241m-\u001b[39m\u001b[38;5;241m1\u001b[39m, find_first(t[\u001b[38;5;241m2\u001b[39m], \u001b[38;5;28mself\u001b[39m\u001b[38;5;241m.\u001b[39mz)\u001b[38;5;241m-\u001b[39m\u001b[38;5;241m1\u001b[39m\n",
      "File \u001b[1;32mc:\\Users\\RJ\\anaconda3\\envs\\nesse_dev\\lib\\site-packages\\numba\\np\\arrayobj.py:6407\u001b[0m, in \u001b[0;36mimpl\u001b[1;34m()\u001b[0m\n\u001b[0;32m   6404\u001b[0m \u001b[38;5;28;01melse\u001b[39;00m:\n\u001b[0;32m   6405\u001b[0m     msg \u001b[38;5;241m=\u001b[39m (\u001b[38;5;124m\"\u001b[39m\u001b[38;5;124mThe truth value of an array with more than one element \u001b[39m\u001b[38;5;124m\"\u001b[39m\n\u001b[0;32m   6406\u001b[0m            \u001b[38;5;124m\"\u001b[39m\u001b[38;5;124mis ambiguous. Use a.any() or a.all()\u001b[39m\u001b[38;5;124m\"\u001b[39m)\n\u001b[1;32m-> 6407\u001b[0m     \u001b[38;5;28;01mraise\u001b[39;00m \u001b[38;5;167;01mValueError\u001b[39;00m(msg)\n",
      "\u001b[1;31mValueError\u001b[0m: The truth value of an array with more than one element is ambiguous. Use a.any() or a.all()"
     ]
    }
   ],
   "source": [
    "I = [qp.q*np.dot(qp.vel,\n",
    "                        [weightingFieldx_interp(qp.pos),\n",
    "                        weightingFieldy_interp(qp.pos),\n",
    "                        weightingFieldz_interp(qp.pos)])]"
   ]
  },
  {
   "cell_type": "code",
   "execution_count": 42,
   "id": "d311a78d",
   "metadata": {},
   "outputs": [
    {
     "name": "stdout",
     "output_type": "stream",
     "text": [
      "1.2149314880371094\n",
      "Events size: 3555.50390625\n",
      "Event size: 3555.44140625\n",
      "<class 'numpy.ndarray'>\n",
      "<class 'numpy.ndarray'>\n",
      "-----------------------------------\n",
      "PostCurrent:\n",
      "Top 10 lines\n",
      "#1: g:\\nesse\\tests/../src\\nesse\\field.py:99: 64294.0 KiB\n",
      "    fieldMag_interp = Interp3D(fieldMag.astype('double',order=\"C\"), x,y,z)\n",
      "#2: g:\\nesse\\tests/../src\\nesse\\field.py:96: 64293.6 KiB\n",
      "    fieldz_interp = Interp3D(self.fieldz.astype('double',order=\"C\"), x,y,z)\n",
      "#3: g:\\nesse\\tests/../src\\nesse\\field.py:95: 64293.6 KiB\n",
      "    fieldy_interp = Interp3D(self.fieldy.astype('double',order=\"C\"), x,y,z)\n",
      "#4: g:\\nesse\\tests/../src\\nesse\\field.py:94: 64293.6 KiB\n",
      "    fieldx_interp = Interp3D(self.fieldx.astype('double', order=\"C\"), x,y,z)\n",
      "#5: C:\\Users\\RJ\\AppData\\Local\\Temp\\ipykernel_12780\\2068151057.py:1: 55569.6 KiB\n",
      "    Is = [qp.q*np.dot(qp.vel,\n",
      "#6: g:\\nesse\\tests/../src\\nesse\\field.py:151: 19867.3 KiB\n",
      "    Ez = np.rot90(np.array(f[\"Ez\"]),axes=(0,2))\n",
      "#7: g:\\nesse\\tests/../src\\nesse\\field.py:150: 19867.3 KiB\n",
      "    Ey = np.rot90(np.array(f[\"Ey\"]),axes=(0,2))\n",
      "#8: g:\\nesse\\tests/../src\\nesse\\field.py:149: 19867.3 KiB\n",
      "    Ex = np.rot90(np.array(f[\"Ex\"]),axes=(0,2))\n",
      "#9: g:\\nesse\\tests/../src\\nesse\\field.py:129: 16073.5 KiB\n",
      "    data = np.array(f[\"wp\"])\n",
      "#10: c:\\Users\\RJ\\anaconda3\\envs\\nesse_dev\\lib\\copy.py:153: 16073.4 KiB\n",
      "    y = copier(memo)\n",
      "13774 other: 57476.6 KiB\n",
      "Total allocated size: 461969.8 KiB\n"
     ]
    }
   ],
   "source": [
    "t0 = time.time()\n",
    "sim.calculateInducedCurrent(Events, 1e-9, detailed=True)\n",
    "t1 = time.time()\n",
    "print(t1-t0)\n",
    "# print(\"Induced Current:\")\n",
    "# print(tracemalloc.get_traced_memory())\n",
    "\n",
    "print(f\"Events size: {total_size(Events)}\")\n",
    "print(f\"Event size: {total_size(Events[0])}\")\n",
    "\n",
    "print(type(Events[0].dI[0]))\n",
    "print(type(Events[0].dt[0]))\n",
    "\n",
    "print(\"-----------------------------------\")\n",
    "\n",
    "print(\"PostCurrent:\")\n",
    "snapshot = tracemalloc.take_snapshot()\n",
    "display_top(snapshot)"
   ]
  },
  {
   "cell_type": "code",
   "execution_count": 34,
   "id": "663916fb",
   "metadata": {},
   "outputs": [
    {
     "data": {
      "text/plain": [
       "array([0.00e+00, 1.00e-09, 2.00e-09, 3.00e-09, 4.00e-09, 5.00e-09,\n",
       "       6.00e-09, 7.00e-09, 8.00e-09, 9.00e-09, 1.00e-08, 1.10e-08,\n",
       "       1.20e-08, 1.30e-08, 1.40e-08, 1.50e-08, 1.60e-08, 1.70e-08,\n",
       "       1.80e-08, 1.90e-08, 2.00e-08, 2.10e-08, 2.20e-08, 2.30e-08,\n",
       "       2.40e-08, 2.50e-08, 2.60e-08, 2.70e-08, 2.80e-08, 2.90e-08,\n",
       "       3.00e-08, 3.10e-08, 3.20e-08, 3.30e-08, 3.40e-08, 3.50e-08,\n",
       "       3.60e-08, 3.70e-08, 3.80e-08, 3.90e-08, 4.00e-08, 4.10e-08,\n",
       "       4.20e-08, 4.30e-08, 4.40e-08, 4.50e-08, 4.60e-08, 4.70e-08,\n",
       "       4.80e-08, 4.90e-08, 5.00e-08, 5.10e-08, 5.20e-08, 5.30e-08,\n",
       "       5.40e-08, 5.50e-08, 5.60e-08, 5.70e-08, 5.80e-08, 5.90e-08,\n",
       "       6.00e-08, 6.10e-08, 6.20e-08, 6.30e-08, 6.40e-08, 6.50e-08,\n",
       "       6.60e-08, 6.70e-08, 6.80e-08, 6.90e-08, 7.00e-08, 7.10e-08,\n",
       "       7.20e-08, 7.30e-08, 7.40e-08, 7.50e-08, 7.60e-08, 7.70e-08,\n",
       "       7.80e-08, 7.90e-08, 8.00e-08, 8.10e-08, 8.20e-08, 8.30e-08,\n",
       "       8.40e-08, 8.50e-08, 8.60e-08, 8.70e-08, 8.80e-08, 8.90e-08,\n",
       "       9.00e-08, 9.10e-08, 9.20e-08, 9.30e-08, 9.40e-08, 9.50e-08,\n",
       "       9.60e-08, 9.70e-08, 9.80e-08, 9.90e-08, 1.00e-07, 1.01e-07,\n",
       "       1.02e-07, 1.03e-07, 1.04e-07, 1.05e-07, 1.06e-07, 1.07e-07,\n",
       "       1.08e-07, 1.09e-07, 1.10e-07, 1.11e-07, 1.12e-07, 1.13e-07,\n",
       "       1.14e-07, 1.15e-07, 1.16e-07, 1.17e-07, 1.18e-07, 1.19e-07,\n",
       "       1.20e-07, 1.21e-07, 1.22e-07, 1.23e-07, 1.24e-07, 1.25e-07,\n",
       "       1.26e-07, 1.27e-07, 1.28e-07, 1.29e-07, 1.30e-07, 1.31e-07,\n",
       "       1.32e-07, 1.33e-07, 1.34e-07, 1.35e-07, 1.36e-07, 1.37e-07,\n",
       "       1.38e-07, 1.39e-07, 1.40e-07, 1.41e-07, 1.42e-07, 1.43e-07,\n",
       "       1.44e-07, 1.45e-07, 1.46e-07, 1.47e-07, 1.48e-07, 1.49e-07,\n",
       "       1.50e-07, 1.51e-07, 1.52e-07, 1.53e-07, 1.54e-07, 1.55e-07,\n",
       "       1.56e-07, 1.57e-07, 1.58e-07, 1.59e-07, 1.60e-07, 1.61e-07,\n",
       "       1.62e-07])"
      ]
     },
     "execution_count": 34,
     "metadata": {},
     "output_type": "execute_result"
    }
   ],
   "source": [
    "Events[0].dt[0]"
   ]
  }
 ],
 "metadata": {
  "kernelspec": {
   "display_name": "nesse_dev",
   "language": "python",
   "name": "python3"
  },
  "language_info": {
   "codemirror_mode": {
    "name": "ipython",
    "version": 3
   },
   "file_extension": ".py",
   "mimetype": "text/x-python",
   "name": "python",
   "nbconvert_exporter": "python",
   "pygments_lexer": "ipython3",
   "version": "3.8.17"
  }
 },
 "nbformat": 4,
 "nbformat_minor": 5
}
